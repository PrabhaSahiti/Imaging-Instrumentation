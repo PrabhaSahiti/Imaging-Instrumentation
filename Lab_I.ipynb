{
 "cells": [
  {
   "cell_type": "code",
   "execution_count": 32,
   "id": "7ac46057",
   "metadata": {},
   "outputs": [],
   "source": [
    "import os\n",
    "import sys\n",
    "\n",
    "# Add the path which contains wrappers for II harwares\n",
    "sys.path.append(r'.\\Hardware_src') # Make the change according to your path\n",
    "import json\n",
    "# Python modules for figure visualization\n",
    "import numpy as np\n",
    "import matplotlib.pyplot as plt\n",
    "from helper import check_minmax\n",
    "from IPython.display import clear_output\n",
    "from IPython.display import display, HTML"
   ]
  },
  {
   "cell_type": "code",
   "execution_count": 33,
   "id": "2c0851ea",
   "metadata": {},
   "outputs": [
    {
     "name": "stdout",
     "output_type": "stream",
     "text": [
      "Load uc480 library..\n",
      "ThorCam opened successfully.\n"
     ]
    }
   ],
   "source": [
    "from camera import Camera\n",
    "# Instantiate Camera object\n",
    "c = Camera()\n",
    "c.open()\n",
    "c.initialize_memory()"
   ]
  },
  {
   "cell_type": "code",
   "execution_count": 17,
   "id": "1e14c324",
   "metadata": {},
   "outputs": [
    {
     "name": "stdout",
     "output_type": "stream",
     "text": [
      "Exposure \t 10.00  ms\n",
      "Exposure Range \t [0.01, 999.97]  ms\n",
      "Framerate \t 1.0\n",
      "Frame Range \t [0.5, 17.3]\n",
      "Pixel Clock \t 24 MHz\n",
      "Allowed Pixel Clock \t [7, 86] MHz\n"
     ]
    }
   ],
   "source": [
    "c.get_properties()"
   ]
  },
  {
   "cell_type": "code",
   "execution_count": 18,
   "id": "bfa00fb0",
   "metadata": {},
   "outputs": [
    {
     "data": {
      "text/plain": [
       "9.999750247413404"
      ]
     },
     "execution_count": 18,
     "metadata": {},
     "output_type": "execute_result"
    }
   ],
   "source": [
    "c.set_exposure(10)\n",
    "\n",
    "# Check current exposure\n",
    "c.get_exposure()"
   ]
  },
  {
   "cell_type": "code",
   "execution_count": 19,
   "id": "4c373c7b",
   "metadata": {},
   "outputs": [
    {
     "data": {
      "text/plain": [
       "7"
      ]
     },
     "execution_count": 19,
     "metadata": {},
     "output_type": "execute_result"
    }
   ],
   "source": [
    "c.set_pixel_clock(7)\n",
    "\n",
    "# Check the pixel clock\n",
    "c.get_pixel_clock()"
   ]
  },
  {
   "cell_type": "code",
   "execution_count": 20,
   "id": "adcf6866",
   "metadata": {},
   "outputs": [],
   "source": [
    "# Set the imaging ROI (in raw measurement view)\n",
    "roi_shape = [100,100] # ROI size MUST BE MULTIPLE OF 4\n",
    "roi_pos = [950,450] # The location of top-left corner of AOI on axis 0 and 1;\n",
    "                     # Full size is (1280,1024)\n",
    "c.set_roi(roi_shape, roi_pos)\n",
    "\n",
    "# Lens cap on"
   ]
  },
  {
   "cell_type": "code",
   "execution_count": 21,
   "id": "74ea3697",
   "metadata": {},
   "outputs": [
    {
     "name": "stdout",
     "output_type": "stream",
     "text": [
      "Start capturing for exposure 1\n",
      "Capturing done\n",
      "Start capturing for exposure 9\n",
      "Capturing done\n",
      "Start capturing for exposure 17\n",
      "Capturing done\n",
      "Start capturing for exposure 25\n",
      "Capturing done\n",
      "Start capturing for exposure 33\n",
      "Capturing done\n",
      "Start capturing for exposure 41\n",
      "Capturing done\n",
      "Start capturing for exposure 49\n",
      "Capturing done\n",
      "Start capturing for exposure 57\n",
      "Capturing done\n",
      "Start capturing for exposure 65\n",
      "Capturing done\n",
      "Start capturing for exposure 73\n",
      "Capturing done\n",
      "Start capturing for exposure 81\n",
      "Capturing done\n",
      "Start capturing for exposure 89\n",
      "Capturing done\n",
      "Start capturing for exposure 97\n",
      "Capturing done\n",
      "Start capturing for exposure 105\n",
      "Capturing done\n",
      "Start capturing for exposure 113\n",
      "Capturing done\n"
     ]
    }
   ],
   "source": [
    "img = {}\n",
    "step = int(120/15)\n",
    "max_exp = 120\n",
    "for value in range(1, max_exp, step): #changing exposure value\n",
    "    c.set_exposure(value)\n",
    "    exposure_img = []\n",
    "    print('Start capturing for exposure ' + str(value))\n",
    "    for j in range(100): #looping for a hundred images\n",
    "        temp = c.capture().copy()\n",
    "        exposure_img.append(temp)\n",
    "    print('Capturing done')\n",
    "    exposure_img = np.array(exposure_img)\n",
    "    img[value] = exposure_img"
   ]
  },
  {
   "cell_type": "code",
   "execution_count": 22,
   "id": "ac1ef1cc",
   "metadata": {},
   "outputs": [],
   "source": [
    "import pickle\n",
    "with open('p2_aoi3_data.json', 'wb') as fp: #storing the images as json\n",
    "    pickle.dump(img, fp)   \n",
    "\n",
    "    \n",
    "\n",
    "# Display the full-field image\n",
    "\n",
    "# Load saved dictionary for the ensemble\n",
    "# For each exposure time compute the mean & variance of all the images stacked in np array\n",
    "# Plot the exposure time vs offset & variance noise \n",
    "\n"
   ]
  },
  {
   "cell_type": "code",
   "execution_count": 34,
   "id": "b73042b0",
   "metadata": {},
   "outputs": [
    {
     "name": "stdout",
     "output_type": "stream",
     "text": [
      "Start capturing for exposure 113\n",
      "Capturing done\n"
     ]
    }
   ],
   "source": [
    "# Capture & save the full field image measurements\n",
    "# Reset the ROI\n",
    "# Set the imaging ROI (in raw measurement view)\n",
    "roi_shape = [1280,1024] # ROI size MUST BE MULTIPLE OF 4\n",
    "roi_pos = [0,0] # The location of top-left corner of AOI on axis 0 and 1;\n",
    "                     # Full size is (1280,1024)\n",
    "c.set_roi(roi_shape, roi_pos)\n",
    "\n",
    "# Set exposure\n",
    "c.set_exposure(25)\n",
    "\n",
    "# Capture 100 images\n",
    "full_img = []\n",
    "print('Start capturing for exposure ' + str(value))\n",
    "for j in range(60): #looping for a hundred images\n",
    "    temp = c.capture().copy()\n",
    "    full_img.append(temp)\n",
    "print('Capturing done')\n",
    "full_img = np.array(full_img)"
   ]
  },
  {
   "cell_type": "code",
   "execution_count": 35,
   "id": "74b36aff",
   "metadata": {},
   "outputs": [],
   "source": [
    "# Get the offset & noise images\n",
    "with open('full_img_part_2.npy', 'wb') as f:\n",
    "    np.save(f, full_img)"
   ]
  },
  {
   "cell_type": "code",
   "execution_count": 36,
   "id": "bc95fa53",
   "metadata": {},
   "outputs": [
    {
     "ename": "NameError",
     "evalue": "name 'full_noise' is not defined",
     "output_type": "error",
     "traceback": [
      "\u001b[1;31m---------------------------------------------------------------------------\u001b[0m",
      "\u001b[1;31mNameError\u001b[0m                                 Traceback (most recent call last)",
      "\u001b[1;32m~\\AppData\\Local\\Temp\\ipykernel_300\\1456411742.py\u001b[0m in \u001b[0;36m<module>\u001b[1;34m\u001b[0m\n\u001b[0;32m      1\u001b[0m \u001b[0mfull_img\u001b[0m\u001b[1;33m.\u001b[0m\u001b[0mshape\u001b[0m\u001b[1;33m\u001b[0m\u001b[0m\n\u001b[1;32m----> 2\u001b[1;33m \u001b[0mfull_noise\u001b[0m\u001b[1;33m.\u001b[0m\u001b[0mshape\u001b[0m\u001b[1;33m\u001b[0m\u001b[0m\n\u001b[0m",
      "\u001b[1;31mNameError\u001b[0m: name 'full_noise' is not defined"
     ]
    }
   ],
   "source": [
    "full_img.shape\n",
    "full_noise.shape"
   ]
  },
  {
   "cell_type": "code",
   "execution_count": 37,
   "id": "26263547",
   "metadata": {
    "scrolled": true
   },
   "outputs": [
    {
     "name": "stdout",
     "output_type": "stream",
     "text": [
      "ThorCam closed successfully.\n"
     ]
    },
    {
     "name": "stderr",
     "output_type": "stream",
     "text": [
      "Exception ignored in: <function Camera.__del__ at 0x00000219EC820D08>\n",
      "Traceback (most recent call last):\n",
      "  File \".\\Hardware_src\\camera.py\", line 352, in __del__\n",
      "    self.close()\n",
      "  File \".\\Hardware_src\\camera.py\", line 176, in close\n",
      "    self.call('is_ExitCamera', self.hid, argtypes=[c_int])\n",
      "  File \".\\Hardware_src\\camera.py\", line 192, in call\n",
      "    assrt(func(*args), function)\n",
      "  File \".\\Hardware_src\\camera.py\", line 91, in assrt\n",
      "    raise uc480Error(retVal, \"Error: uc480 function call failed! Error code = \" + str(retVal), fname)\n",
      "camera.uc480Error: Error: uc480 function call failed! Error code = 1 in function is_ExitCamera\n",
      "Exception ignored in: <function Camera.__del__ at 0x00000219EC820D08>\n",
      "Traceback (most recent call last):\n",
      "  File \".\\Hardware_src\\camera.py\", line 352, in __del__\n",
      "    self.close()\n",
      "  File \".\\Hardware_src\\camera.py\", line 173, in close\n",
      "    if self.meminfo != None:\n",
      "AttributeError: 'Camera' object has no attribute 'meminfo'\n",
      "Exception ignored in: <function Camera.__del__ at 0x00000219EC820D08>\n",
      "Traceback (most recent call last):\n",
      "  File \".\\Hardware_src\\camera.py\", line 352, in __del__\n",
      "    self.close()\n",
      "  File \".\\Hardware_src\\camera.py\", line 173, in close\n",
      "    if self.meminfo != None:\n",
      "AttributeError: 'Camera' object has no attribute 'meminfo'\n",
      "Exception ignored in: <function Camera.__del__ at 0x00000219EC820D08>\n",
      "Traceback (most recent call last):\n",
      "  File \".\\Hardware_src\\camera.py\", line 352, in __del__\n",
      "    self.close()\n",
      "  File \".\\Hardware_src\\camera.py\", line 176, in close\n",
      "    self.call('is_ExitCamera', self.hid, argtypes=[c_int])\n",
      "  File \".\\Hardware_src\\camera.py\", line 192, in call\n",
      "    assrt(func(*args), function)\n",
      "  File \".\\Hardware_src\\camera.py\", line 91, in assrt\n",
      "    raise uc480Error(retVal, \"Error: uc480 function call failed! Error code = \" + str(retVal), fname)\n",
      "camera.uc480Error: Error: uc480 function call failed! Error code = 1 in function is_ExitCamera\n"
     ]
    },
    {
     "data": {
      "image/png": "[encoded data removed]",
      "text/plain": [
       "<Figure size 432x288 with 3 Axes>"
      ]
     },
     "metadata": {
      "needs_background": "light"
     },
     "output_type": "display_data"
    }
   ],
   "source": [
    "# Compute the offset & noise image\n",
    "full_offset = np.mean(full_img, axis=0)\n",
    "full_noise = np.var(full_img, axis=0)\n",
    "\n",
    "# Visualize your offset image\n",
    "im = plt.imshow(full_offset, cmap='gray')\n",
    "color = plt.colorbar(im)\n",
    "plt.title('Full Field Offset image at exposure 130 ms')\n",
    "plt.savefig('full_offset.jpg')\n",
    "\n",
    "# Visualize your offset image\n",
    "im = plt.imshow(full_noise, cmap='gray')\n",
    "color = plt.colorbar(im)\n",
    "plt.title('Full Field Noise image at exposure 130 ms')\n",
    "plt.savefig('full_noise.jpg')"
   ]
  },
  {
   "cell_type": "code",
   "execution_count": 38,
   "id": "3c1e30b7",
   "metadata": {},
   "outputs": [],
   "source": [
    "# Compute mean offset & mean readout noise for each exposure time\n",
    "offset_arr = []\n",
    "readout_arr = []\n",
    "\n",
    "for exposure_val in img:\n",
    "    exp_imgs = img[exposure_val]\n",
    "    curr_mean = np.mean(exp_imgs)\n",
    "    curr_var = np.var(exp_imgs)\n",
    "    offset_arr.append(curr_mean)\n",
    "    readout_arr.append(curr_var)"
   ]
  },
  {
   "cell_type": "code",
   "execution_count": 40,
   "id": "4374a479",
   "metadata": {},
   "outputs": [
    {
     "data": {
      "image/png": "[encoded data removed]",
      "text/plain": [
       "<Figure size 432x288 with 1 Axes>"
      ]
     },
     "metadata": {
      "needs_background": "light"
     },
     "output_type": "display_data"
    }
   ],
   "source": [
    "plt.plot(list(img.keys()), offset_arr, label=\"Offset\")\n",
    "plt.title('Offset vs exposure')\n",
    "plt.show()\n"
   ]
  },
  {
   "cell_type": "code",
   "execution_count": 39,
   "id": "3a8a8810",
   "metadata": {},
   "outputs": [
    {
     "data": {
      "image/png": "[encoded data removed]",
      "text/plain": [
       "<Figure size 432x288 with 1 Axes>"
      ]
     },
     "metadata": {
      "needs_background": "light"
     },
     "output_type": "display_data"
    }
   ],
   "source": [
    "plt.plot(list(img.keys()), readout_arr, label=\"Readout\")\n",
    "plt.title('Readout vs exposure')\n",
    "plt.show()\n"
   ]
  },
  {
   "cell_type": "code",
   "execution_count": 24,
   "id": "bda76015",
   "metadata": {},
   "outputs": [],
   "source": [
    "with open('class1_data.json', 'rb') as fp: #storing the images as json\n",
    "    ensemble = pickle.load(fp)"
   ]
  },
  {
   "cell_type": "code",
   "execution_count": 30,
   "id": "a6f60fa3",
   "metadata": {},
   "outputs": [
    {
     "name": "stdout",
     "output_type": "stream",
     "text": [
      "[1, 7, 13, 19, 25, 31, 37, 43, 49, 55, 61, 67, 73, 79, 85, 91, 97, 103, 109, 115]\n"
     ]
    }
   ],
   "source": [
    "print(list(img.keys()))"
   ]
  },
  {
   "cell_type": "code",
   "execution_count": 31,
   "id": "d0711c35",
   "metadata": {},
   "outputs": [
    {
     "name": "stdout",
     "output_type": "stream",
     "text": [
      "[1, 7, 13, 19, 25, 31, 37, 43, 49, 55, 61, 67, 73, 79, 85, 91, 97, 103, 109, 115]\n"
     ]
    }
   ],
   "source": [
    "print(list(ensemble.keys()))"
   ]
  },
  {
   "cell_type": "code",
   "execution_count": 41,
   "id": "0bb3ec43",
   "metadata": {},
   "outputs": [
    {
     "ename": "uc480Error",
     "evalue": "Error: uc480 function call failed! Error code = 1 in function is_ExitCamera",
     "output_type": "error",
     "traceback": [
      "\u001b[1;31m---------------------------------------------------------------------------\u001b[0m",
      "\u001b[1;31muc480Error\u001b[0m                                Traceback (most recent call last)",
      "\u001b[1;32m~\\AppData\\Local\\Temp\\ipykernel_300\\2320913406.py\u001b[0m in \u001b[0;36m<module>\u001b[1;34m\u001b[0m\n\u001b[1;32m----> 1\u001b[1;33m \u001b[0mc\u001b[0m\u001b[1;33m.\u001b[0m\u001b[0mclose\u001b[0m\u001b[1;33m(\u001b[0m\u001b[1;33m)\u001b[0m\u001b[1;33m\u001b[0m\u001b[0m\n\u001b[0m",
      "\u001b[1;32m~\\Desktop\\II_Software\\Hardware_src\\camera.py\u001b[0m in \u001b[0;36mclose\u001b[1;34m(self)\u001b[0m\n\u001b[0;32m    174\u001b[0m             \u001b[0mself\u001b[0m\u001b[1;33m.\u001b[0m\u001b[0mclear_image\u001b[0m\u001b[1;33m(\u001b[0m\u001b[1;33m)\u001b[0m\u001b[1;33m\u001b[0m\u001b[0m\n\u001b[0;32m    175\u001b[0m         \u001b[1;32mif\u001b[0m \u001b[0mself\u001b[0m\u001b[1;33m.\u001b[0m\u001b[0mhid\u001b[0m \u001b[1;33m!=\u001b[0m \u001b[1;32mNone\u001b[0m\u001b[1;33m:\u001b[0m\u001b[1;33m\u001b[0m\u001b[0m\n\u001b[1;32m--> 176\u001b[1;33m             \u001b[0mself\u001b[0m\u001b[1;33m.\u001b[0m\u001b[0mcall\u001b[0m\u001b[1;33m(\u001b[0m\u001b[1;34m'is_ExitCamera'\u001b[0m\u001b[1;33m,\u001b[0m \u001b[0mself\u001b[0m\u001b[1;33m.\u001b[0m\u001b[0mhid\u001b[0m\u001b[1;33m,\u001b[0m \u001b[0margtypes\u001b[0m\u001b[1;33m=\u001b[0m\u001b[1;33m[\u001b[0m\u001b[0mc_int\u001b[0m\u001b[1;33m]\u001b[0m\u001b[1;33m)\u001b[0m\u001b[1;33m\u001b[0m\u001b[0m\n\u001b[0m\u001b[0;32m    177\u001b[0m             \u001b[0mprint\u001b[0m\u001b[1;33m(\u001b[0m\u001b[1;34m'ThorCam closed successfully.'\u001b[0m\u001b[1;33m)\u001b[0m\u001b[1;33m\u001b[0m\u001b[0m\n\u001b[0;32m    178\u001b[0m         \u001b[1;32melse\u001b[0m\u001b[1;33m:\u001b[0m\u001b[1;33m\u001b[0m\u001b[0m\n",
      "\u001b[1;32m~\\Desktop\\II_Software\\Hardware_src\\camera.py\u001b[0m in \u001b[0;36mcall\u001b[1;34m(self, function, argtypes, *args)\u001b[0m\n\u001b[0;32m    190\u001b[0m         \u001b[1;32mif\u001b[0m \u001b[0margtypes\u001b[0m \u001b[1;32mis\u001b[0m \u001b[1;32mnot\u001b[0m \u001b[1;32mNone\u001b[0m\u001b[1;33m:\u001b[0m\u001b[1;33m\u001b[0m\u001b[0m\n\u001b[0;32m    191\u001b[0m             \u001b[0mfunc\u001b[0m\u001b[1;33m.\u001b[0m\u001b[0margtypes\u001b[0m \u001b[1;33m=\u001b[0m \u001b[0margtypes\u001b[0m\u001b[1;33m\u001b[0m\u001b[0m\n\u001b[1;32m--> 192\u001b[1;33m         \u001b[0massrt\u001b[0m\u001b[1;33m(\u001b[0m\u001b[0mfunc\u001b[0m\u001b[1;33m(\u001b[0m\u001b[1;33m*\u001b[0m\u001b[0margs\u001b[0m\u001b[1;33m)\u001b[0m\u001b[1;33m,\u001b[0m \u001b[0mfunction\u001b[0m\u001b[1;33m)\u001b[0m\u001b[1;33m\u001b[0m\u001b[0m\n\u001b[0m\u001b[0;32m    193\u001b[0m         \u001b[1;31m# if out == 0:\u001b[0m\u001b[1;33m\u001b[0m\u001b[1;33m\u001b[0m\u001b[0m\n\u001b[0;32m    194\u001b[0m         \u001b[1;31m#     return out\u001b[0m\u001b[1;33m\u001b[0m\u001b[1;33m\u001b[0m\u001b[0m\n",
      "\u001b[1;32m~\\Desktop\\II_Software\\Hardware_src\\camera.py\u001b[0m in \u001b[0;36massrt\u001b[1;34m(retVal, fname)\u001b[0m\n\u001b[0;32m     89\u001b[0m \u001b[1;32mdef\u001b[0m \u001b[0massrt\u001b[0m\u001b[1;33m(\u001b[0m\u001b[0mretVal\u001b[0m\u001b[1;33m,\u001b[0m \u001b[0mfname\u001b[0m\u001b[1;33m=\u001b[0m\u001b[1;34m\"\"\u001b[0m\u001b[1;33m)\u001b[0m\u001b[1;33m:\u001b[0m\u001b[1;33m\u001b[0m\u001b[0m\n\u001b[0;32m     90\u001b[0m     \u001b[1;32mif\u001b[0m \u001b[1;32mnot\u001b[0m \u001b[1;33m(\u001b[0m\u001b[0mretVal\u001b[0m \u001b[1;33m==\u001b[0m \u001b[0mIS_SUCCESS\u001b[0m\u001b[1;33m)\u001b[0m\u001b[1;33m:\u001b[0m\u001b[1;33m\u001b[0m\u001b[0m\n\u001b[1;32m---> 91\u001b[1;33m         \u001b[1;32mraise\u001b[0m \u001b[0muc480Error\u001b[0m\u001b[1;33m(\u001b[0m\u001b[0mretVal\u001b[0m\u001b[1;33m,\u001b[0m \u001b[1;34m\"Error: uc480 function call failed! Error code = \"\u001b[0m \u001b[1;33m+\u001b[0m \u001b[0mstr\u001b[0m\u001b[1;33m(\u001b[0m\u001b[0mretVal\u001b[0m\u001b[1;33m)\u001b[0m\u001b[1;33m,\u001b[0m \u001b[0mfname\u001b[0m\u001b[1;33m)\u001b[0m\u001b[1;33m\u001b[0m\u001b[0m\n\u001b[0m\u001b[0;32m     92\u001b[0m     \u001b[1;32mreturn\u001b[0m \u001b[0mretVal\u001b[0m\u001b[1;33m\u001b[0m\u001b[0m\n\u001b[0;32m     93\u001b[0m \u001b[1;33m\u001b[0m\u001b[0m\n",
      "\u001b[1;31muc480Error\u001b[0m: Error: uc480 function call failed! Error code = 1 in function is_ExitCamera"
     ]
    }
   ],
   "source": [
    "c.close()"
   ]
  },
  {
   "cell_type": "code",
   "execution_count": null,
   "id": "50a85371",
   "metadata": {},
   "outputs": [],
   "source": []
  }
 ],
 "metadata": {
  "kernelspec": {
   "display_name": "Python 3 (ipykernel)",
   "language": "python",
   "name": "python3"
  },
  "language_info": {
   "codemirror_mode": {
    "name": "ipython",
    "version": 3
   },
   "file_extension": ".py",
   "mimetype": "text/x-python",
   "name": "python",
   "nbconvert_exporter": "python",
   "pygments_lexer": "ipython3",
   "version": "3.7.0"
  }
 },
 "nbformat": 4,
 "nbformat_minor": 5
}
