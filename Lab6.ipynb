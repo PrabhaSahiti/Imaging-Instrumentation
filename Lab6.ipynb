{
 "cells": [
  {
   "cell_type": "code",
   "execution_count": 24,
   "id": "34393adf",
   "metadata": {},
   "outputs": [],
   "source": [
    "import numpy as np\n",
    "import cv2 as cv\n",
    "import pickle\n",
    "import scipy.io as io\n",
    "from scipy.signal import get_window\n",
    "import numpy.matlib as matlib\n",
    "from numpy.fft import fft2, ifft2"
   ]
  },
  {
   "cell_type": "code",
   "execution_count": 5,
   "id": "5c00c351",
   "metadata": {},
   "outputs": [],
   "source": [
    "I0 = 50\n",
    "data = io.loadmat(\"sinogram.mat\")"
   ]
  },
  {
   "cell_type": "code",
   "execution_count": 22,
   "id": "161e897f",
   "metadata": {},
   "outputs": [
    {
     "data": {
      "text/plain": [
       "(2330, 360)"
      ]
     },
     "execution_count": 22,
     "metadata": {},
     "output_type": "execute_result"
    }
   ],
   "source": [
    "y = data['y']\n",
    "size = y.shape\n",
    "minus1 = np.multiply(-1, np.ones(y.shape))\n",
    "rec = -1 * np.log(np.divide(y, I0)) \n",
    "rec.shape"
   ]
  },
  {
   "cell_type": "code",
   "execution_count": 29,
   "id": "1fa9fe80",
   "metadata": {},
   "outputs": [
    {
     "data": {
      "text/plain": [
       "(2330, 2330)"
      ]
     },
     "execution_count": 29,
     "metadata": {},
     "output_type": "execute_result"
    }
   ],
   "source": [
    "win = get_window(\"triang\", size[0])\n",
    "filt = matlib.repmat(win, size[1], 1)\n",
    "fftsinogram = fft2(rec)\n",
    "filtered_sinogram = ifft2(fftsinogram @ filt)\n"
   ]
  }
 ],
 "metadata": {
  "kernelspec": {
   "display_name": "Python 3 (ipykernel)",
   "language": "python",
   "name": "python3"
  },
  "language_info": {
   "codemirror_mode": {
    "name": "ipython",
    "version": 3
   },
   "file_extension": ".py",
   "mimetype": "text/x-python",
   "name": "python",
   "nbconvert_exporter": "python",
   "pygments_lexer": "ipython3",
   "version": "3.9.6"
  }
 },
 "nbformat": 4,
 "nbformat_minor": 5
}
