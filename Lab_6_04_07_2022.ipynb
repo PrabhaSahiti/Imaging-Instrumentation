{
 "cells": [
  {
   "cell_type": "code",
   "execution_count": 9,
   "id": "707f5135",
   "metadata": {},
   "outputs": [],
   "source": [
    "import numpy as np\n",
    "import cv2 as cv\n",
    "import pickle\n",
    "import scipy.io as io\n",
    "from scipy.signal import get_window\n",
    "import numpy.matlib as matlib\n",
    "from numpy.fft import fft2, ifft2\n",
    "import matplotlib.pyplot as plt\n",
    "from scipy.interpolate import interp1d, griddata\n",
    "import glob"
   ]
  },
  {
   "cell_type": "code",
   "execution_count": 62,
   "id": "c07c4229",
   "metadata": {},
   "outputs": [],
   "source": [
    "# function alias starts\n",
    "sin = np.sin\n",
    "cos = np.cos\n",
    "atan = np.arctan\n",
    "fft = np.fft.fft\n",
    "ifft = np.fft.ifft\n",
    "fftshift = np.fft.fftshift\n",
    "ifftshift = np.fft.ifftshift\n",
    "sinc = np.sinc\n",
    "sqrt = np.sqrt\n",
    "real = np.real\n",
    "pi = np.pi"
   ]
  },
  {
   "cell_type": "code",
   "execution_count": 6,
   "id": "64b2d3a0",
   "metadata": {},
   "outputs": [],
   "source": [
    "I0 = 50\n",
    "data = io.loadmat(\"sinogram.mat\")"
   ]
  },
  {
   "cell_type": "code",
   "execution_count": 7,
   "id": "50c3bf30",
   "metadata": {},
   "outputs": [
    {
     "data": {
      "text/plain": [
       "(2330, 360)"
      ]
     },
     "execution_count": 7,
     "metadata": {},
     "output_type": "execute_result"
    }
   ],
   "source": [
    "y = data['y']\n",
    "size = y.shape\n",
    "minus1 = np.multiply(-1, np.ones(y.shape))\n",
    "rec = -1 * np.log(np.divide(y, I0)) \n",
    "rec.shape"
   ]
  },
  {
   "cell_type": "code",
   "execution_count": 49,
   "id": "1d9ec5aa",
   "metadata": {},
   "outputs": [
    {
     "data": {
      "image/png": "[encoded data removed]",
      "text/plain": [
       "<Figure size 432x288 with 1 Axes>"
      ]
     },
     "metadata": {
      "needs_background": "light"
     },
     "output_type": "display_data"
    }
   ],
   "source": [
    "plt.imshow(rec, cmap = 'gray')\n",
    "plt.show()"
   ]
  },
  {
   "cell_type": "markdown",
   "id": "c6ed3c60",
   "metadata": {},
   "source": [
    "# GitHub Repo"
   ]
  },
  {
   "cell_type": "code",
   "execution_count": 2,
   "id": "eec21f4a",
   "metadata": {},
   "outputs": [],
   "source": [
    "def cart2pol(x, y):\n",
    "    rho = np.sqrt(x ** 2 + y ** 2)\n",
    "    phi = np.arctan2(y, x)\n",
    "    return (phi, rho)"
   ]
  },
  {
   "cell_type": "code",
   "execution_count": 3,
   "id": "f87afb29",
   "metadata": {},
   "outputs": [],
   "source": [
    "def Filter(N, pixel_size, FilterType, cutoff):\n",
    "    '''\n",
    "    TO DO: Ram-Lak filter implementation\n",
    "               Argument for name of filter\n",
    "    '''\n",
    "    try:\n",
    "        if cutoff > 0.5 or cutoff < 0:\n",
    "            raise ErrorDescription(4)\n",
    "    except ErrorDescription as e:\n",
    "        print(e)\n",
    "    x = np.arange(0, N) - (N - 1) / 2\n",
    "    h = np.zeros(len(x))\n",
    "    h[np.where(x == 0)] = 1 / (8 * pixel_size ** 2)\n",
    "    odds = np.where(x % 2 == 1)\n",
    "    h[odds] = -0.5 / (pi * pixel_size * x[odds]) ** 2\n",
    "    h = h[0:-1]\n",
    "    filter = abs(fftshift(fft(h))) * 2\n",
    "    w = 2 * pi * x[0:-1] / (N - 1)\n",
    "    print(filter.shape, w.shape)\n",
    "    if FilterType == 'ram-lak':\n",
    "        pass  # Do nothing\n",
    "    elif FilterType == 'shepp-logan':\n",
    "        zero = np.where(w == 0)\n",
    "        tmp = filter[zero]\n",
    "        filter = filter * sin(w / (2 * cutoff)) / (w / (2 * cutoff))\n",
    "        filter[zero] = tmp * sin(w[zero] / (2 * cutoff))\n",
    "    elif FilterType == 'cosine':\n",
    "        filter = filter * cos(w / (2 * cutoff))\n",
    "    elif FilterType == 'hamming':\n",
    "        filter = filter * (0.54 + 0.46 * (cos(w / cutoff)))\n",
    "    elif FilterType == 'hann':\n",
    "        filter = filter * (0.5 + 0.5 * cos(w / cutoff))\n",
    "\n",
    "    filter[np.where(abs(w) > pi * cutoff)] = 0\n",
    "    return filter"
   ]
  },
  {
   "cell_type": "code",
   "execution_count": null,
   "id": "dd913c55",
   "metadata": {},
   "outputs": [],
   "source": [
    "def Reconstruction(self, savefile):\n",
    "    R = self.params['SourceToAxis']\n",
    "    D = self.params['SourceToDetector'] - R\n",
    "    nx = int(self.params['DetectorWidth'])\n",
    "    ny = int(self.params['DetectorHeight'])\n",
    "    ns = int(self.params['NumberOfViews'])\n",
    "    DetectorPixelWidth = self.params['DetectorPixelWidth']\n",
    "    ZeroPaddedLength = int(2 ** (ceil(log2(2 * (nx - 1)))))\n",
    "#         DetectorPixelWidth = 445.059 / nx;\n",
    "    print(DetectorPixelWidth)\n",
    "    recon = np.zeros(self.recon.shape)\n",
    "    DetectorSize = nx * DetectorPixelWidth\n",
    "    fov = 2 * R * sin(atan(DetectorSize / 2 / (D + R)))\n",
    "    self.params['fov'] = fov\n",
    "    x = np.linspace(-fov / 2, fov / 2, self.params['ReconX'])\n",
    "    y = np.linspace(-fov / 2, fov / 2, self.params['ReconY'])\n",
    "    [xx, yy] = np.meshgrid(x, y)\n",
    "    [phi, rho] = FanBeam.cart2pol(xx, yy)\n",
    "    ReconZ = self.recon.shape[2]\n",
    "    ProjectionAngle = np.linspace(0, self.params['AngleCoverage'], ns + 1)\n",
    "    ProjectionAngle = ProjectionAngle[0:-1]\n",
    "    dtheta = ProjectionAngle[1] - ProjectionAngle[0]\n",
    "    assert(len(ProjectionAngle == ns))\n",
    "    print('Reconstruction starts')\n",
    "    cutoff = 0.3\n",
    "    FilterType = 'hann'\n",
    "    filter = FanBeam.Filter(\n",
    "        ZeroPaddedLength + 1, DetectorPixelWidth * (R / (R + D)), FilterType, cutoff)\n",
    "    gamma = np.arange(0, nx) - (nx - 1) / 2.0\n",
    "    gamma = gamma * DetectorPixelWidth * (R / (R + D))\n",
    "#         for j in range(0, ny):\n",
    "    for j in range(0, ny):\n",
    "        sino = self.sino[:, :, j]\n",
    "        weight = R / (sqrt(R ** 2 + gamma ** 2))\n",
    "        for i in range(0, ns):\n",
    "            angle = ProjectionAngle[i]\n",
    "            WeightedSino = weight * sino[i, :]\n",
    "            Q = real(\n",
    "                ifft(ifftshift(filter * fftshift(fft(WeightedSino, ZeroPaddedLength)))))\n",
    "            t = xx * cos(angle) + yy * sin(angle)\n",
    "            s = -xx * sin(angle) + yy * cos(angle)\n",
    "            InterpX = (R * t) / (R - s)\n",
    "    #                 print(InterpX.max(), InterpX.min(), R)\n",
    "            U = (D + rho * sin(angle - phi)) / D\n",
    "            f = interp1d(gamma, Q, kind='linear',\n",
    "                         bounds_error=False, fill_value=0)\n",
    "            vq = f(InterpX)\n",
    "            recon[:, :, j] += dtheta * (1 / (U ** 2)) * vq.reshape(\n",
    "                [self.params['ReconX'], self.params['ReconY']])\n",
    "\n",
    "    '''\n",
    "            TO DO: Write file name definition\n",
    "                   Save reconstruction condition\n",
    "            '''\n",
    "    self.recon = recon.astype(np.float32)\n",
    "    self.recon.tofile(savefile, sep='', format='')\n",
    "# f = open('condition.txt')\n",
    "# f.close()"
   ]
  },
  {
   "cell_type": "markdown",
   "id": "a8165d4f",
   "metadata": {},
   "source": [
    "# Implementation Works"
   ]
  },
  {
   "cell_type": "code",
   "execution_count": 92,
   "id": "c2c01d0b",
   "metadata": {},
   "outputs": [
    {
     "name": "stdout",
     "output_type": "stream",
     "text": [
      "0.0601\n",
      "0.017453292519943295\n",
      "(2330,) (2330,)\n"
     ]
    }
   ],
   "source": [
    "R = 400 #self.params['SourceToAxis']\n",
    "D = 400 #self.params['SourceToDetector'] - R\n",
    "nx = rec.shape[0]\n",
    "ny = 1\n",
    "ns = rec.shape[1]\n",
    "DetectorPixelWidth = 0.0601\n",
    "ZeroPaddedLength = int(2 ** (np.ceil(np.log2(2 * (nx - 1)))))\n",
    "#         DetectorPixelWidth = 445.059 / nx;\n",
    "print(DetectorPixelWidth)\n",
    "recon = np.zeros((rec.shape[0],rec.shape[0]))\n",
    "\n",
    "DetectorSize = nx * DetectorPixelWidth\n",
    "\n",
    "fov = 2 * R * sin(atan(DetectorSize / 2 / (D + R)))\n",
    "#     self.params['fov'] = fov\n",
    "x = np.linspace(-fov / 2, fov / 2, rec.shape[0])\n",
    "y = np.linspace(-fov / 2, fov / 2, rec.shape[0])\n",
    "[xx, yy] = np.meshgrid(x, y)\n",
    "[phi, rho] = cart2pol(xx, yy)\n",
    "#     ReconZ = self.recon.shape[2]\n",
    "\n",
    "# in radians\n",
    "ProjectionAngle = np.linspace(0, np.radians(360), ns + 1)\n",
    "ProjectionAngle = ProjectionAngle[0:-1]\n",
    "dtheta = ProjectionAngle[1] - ProjectionAngle[0]\n",
    "print(dtheta)\n",
    "\n",
    "cutoff = 0.3\n",
    "FilterType = 'hamming'\n",
    "filter = Filter(rec.shape[0]+ 1, DetectorPixelWidth * (R / (R + D)), FilterType, cutoff)\n",
    "gamma = np.arange(0, nx) - (nx - 1) / 2.0\n",
    "gamma = gamma * DetectorPixelWidth * (R / (R + D))\n",
    "\n",
    "weight = R / (sqrt(R ** 2 + gamma ** 2))\n",
    "#print(weight.shape)\n",
    "\n",
    "for i in range(0, ns):\n",
    "    angle = ProjectionAngle[i]\n",
    "    #print(angle)\n",
    "    WeightedSino = weight * sino[:,i]\n",
    "    #print(WeightedSino.shape)\n",
    "    # need to FFT pad. \n",
    "    Q = real(ifft(ifftshift(filter * fftshift(fft(WeightedSino)))))\n",
    "    #print(Q.shape)\n",
    "    \n",
    "    # understand lin space. \n",
    "    t = xx * cos(angle) + yy * sin(angle)\n",
    "    s = -xx * sin(angle) + yy * cos(angle)\n",
    "    #print(t.shape)\n",
    "    InterpX = (R * t) / (R - s)\n",
    "    U = (D + rho * sin(angle - phi)) / D\n",
    "    f = interp1d(gamma, Q, kind='linear', bounds_error=False, fill_value=0)\n",
    "    vq = f(InterpX)\n",
    "    recon[:,:]+= dtheta * (1 / (U ** 2)) * vq.reshape([recon.shape[0], recon.shape[1]])\n",
    "\n"
   ]
  },
  {
   "cell_type": "code",
   "execution_count": 94,
   "id": "566a62f5",
   "metadata": {},
   "outputs": [
    {
     "data": {
      "image/png": "[encoded data removed]",
      "text/plain": [
       "<Figure size 432x288 with 1 Axes>"
      ]
     },
     "metadata": {
      "needs_background": "light"
     },
     "output_type": "display_data"
    }
   ],
   "source": [
    "plt.imshow(recon)\n",
    "plt.show()"
   ]
  },
  {
   "cell_type": "markdown",
   "id": "e3d29ddb",
   "metadata": {},
   "source": [
    "# Implementation test. "
   ]
  },
  {
   "cell_type": "code",
   "execution_count": null,
   "id": "8949c196",
   "metadata": {},
   "outputs": [],
   "source": [
    "R = 400 #self.params['SourceToAxis']\n",
    "D = 400 #self.params['SourceToDetector'] - R\n",
    "nx = rec.shape[0]\n",
    "ny = 1\n",
    "ns = rec.shape[1]\n",
    "DetectorPixelWidth = 0.0601\n",
    "ZeroPaddedLength = int(2 ** (np.ceil(np.log2(2 * (nx - 1)))))\n",
    "#         DetectorPixelWidth = 445.059 / nx;\n",
    "print(DetectorPixelWidth)\n",
    "recon = np.zeros((rec.shape[0],rec.shape[0]))\n",
    "\n",
    "DetectorSize = nx * DetectorPixelWidth\n",
    "\n",
    "fov = 2 * R * sin(atan(DetectorSize / 2 / (D + R)))\n",
    "#     self.params['fov'] = fov\n",
    "x = np.linspace(-fov / 2, fov / 2, rec.shape[0])\n",
    "y = np.linspace(-fov / 2, fov / 2, rec.shape[0])\n",
    "[xx, yy] = np.meshgrid(x, y)\n",
    "[phi, rho] = cart2pol(xx, yy)\n",
    "#     ReconZ = self.recon.shape[2]\n",
    "\n",
    "# in radians\n",
    "ProjectionAngle = np.linspace(0, np.radians(360), ns + 1)\n",
    "ProjectionAngle = ProjectionAngle[0:-1]\n",
    "dtheta = ProjectionAngle[1] - ProjectionAngle[0]\n",
    "print(dtheta)\n",
    "\n",
    "cutoff = 0.3\n",
    "FilterType = 'hamming'\n",
    "filter = Filter(rec.shape[0]+ 1, DetectorPixelWidth * (R / (R + D)), FilterType, cutoff)\n",
    "gamma = np.arange(0, nx) - (nx - 1) / 2.0\n",
    "gamma = gamma * DetectorPixelWidth * (R / (R + D))\n",
    "\n",
    "weight = R / (sqrt(R ** 2 + gamma ** 2))\n",
    "#print(weight.shape)\n",
    "\n",
    "#for i in range(0, ns):\n",
    "i = 1\n",
    "angle = ProjectionAngle[i]\n",
    "#print(angle)\n",
    "WeightedSino = weight * sino[:,i]\n",
    "#print(WeightedSino.shape)\n",
    "# need to FFT pad. \n",
    "Q = real(ifft(ifftshift(filter * fftshift(fft(WeightedSino)))))\n",
    "#print(Q.shape)\n",
    "\n",
    "# understand lin space. \n",
    "t = xx * cos(angle) + yy * sin(angle)\n",
    "s = -xx * sin(angle) + yy * cos(angle)\n",
    "#print(t.shape)\n",
    "InterpX = (R * t) / (R - s)\n",
    "U = (D + rho * sin(angle - phi)) / D\n",
    "f = interp1d(gamma, Q, kind='linear', bounds_error=False, fill_value=0)\n",
    "vq = f(InterpX)\n",
    "recon[:,:]+= dtheta * (1 / (U ** 2)) * vq.reshape([recon.shape[0], recon.shape[1]])\n",
    "\n",
    "\n"
   ]
  },
  {
   "cell_type": "markdown",
   "id": "95ca7637",
   "metadata": {},
   "source": [
    "# Remaining. "
   ]
  },
  {
   "cell_type": "code",
   "execution_count": null,
   "id": "ccd0cb01",
   "metadata": {},
   "outputs": [],
   "source": [
    "\n",
    "\n",
    "sino = self.sino[:, :, j]\n",
    "weight = R / (sqrt(R ** 2 + gamma ** 2))\n",
    "for i in range(0, ns):\n",
    "    angle = ProjectionAngle[i]\n",
    "    WeightedSino = weight * sino[i, :]\n",
    "    Q = real(\n",
    "        ifft(ifftshift(filter * fftshift(fft(WeightedSino, ZeroPaddedLength)))))\n",
    "    t = xx * cos(angle) + yy * sin(angle)\n",
    "    s = -xx * sin(angle) + yy * cos(angle)\n",
    "    InterpX = (R * t) / (R - s)\n",
    "#                 print(InterpX.max(), InterpX.min(), R)\n",
    "    U = (D + rho * sin(angle - phi)) / D\n",
    "    f = interp1d(gamma, Q, kind='linear',\n",
    "                 bounds_error=False, fill_value=0)\n",
    "    vq = f(InterpX)\n",
    "    recon[:, :, j] += dtheta * (1 / (U ** 2)) * vq.reshape(\n",
    "        [self.params['ReconX'], self.params['ReconY']])\n",
    "\n",
    "'''\n",
    "    TO DO: Write file name definition\n",
    "           Save reconstruction condition\n",
    "    '''\n",
    "self.recon = recon.astype(np.float32)\n",
    "self.recon.tofile(savefile, sep='', format='')\n",
    "# f = open('condition.txt')\n",
    "# f.close()"
   ]
  }
 ],
 "metadata": {
  "kernelspec": {
   "display_name": "Python 3",
   "language": "python",
   "name": "python3"
  },
  "language_info": {
   "codemirror_mode": {
    "name": "ipython",
    "version": 3
   },
   "file_extension": ".py",
   "mimetype": "text/x-python",
   "name": "python",
   "nbconvert_exporter": "python",
   "pygments_lexer": "ipython3",
   "version": "3.8.8"
  }
 },
 "nbformat": 4,
 "nbformat_minor": 5
}
